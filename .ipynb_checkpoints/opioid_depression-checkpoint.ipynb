{
 "cells": [
  {
   "cell_type": "code",
   "execution_count": 22,
   "metadata": {},
   "outputs": [],
   "source": [
    "import numpy as np"
   ]
  },
  {
   "cell_type": "code",
   "execution_count": 23,
   "metadata": {},
   "outputs": [],
   "source": [
    "import pandas as pd"
   ]
  },
  {
   "cell_type": "code",
   "execution_count": 50,
   "metadata": {},
   "outputs": [],
   "source": [
    "#convert stata data to pandas\n",
    "stata_data='~/Downloads/NSDUH-2014-DS0001-bndl-data-stata/NSDUH_2014.DTA'\n",
    "df=pd.read_stata(stata_data)\n",
    "t=df.shape[0]"
   ]
  },
  {
   "cell_type": "code",
   "execution_count": 91,
   "metadata": {},
   "outputs": [],
   "source": [
    "df['prdaypyr_c']=df['prdaypyr'].apply(lambda x : x if type(x) is int else 999)"
   ]
  },
  {
   "cell_type": "code",
   "execution_count": 92,
   "metadata": {},
   "outputs": [
    {
     "data": {
      "text/plain": [
       "0        999\n",
       "1        999\n",
       "2        999\n",
       "3        999\n",
       "4        999\n",
       "5        999\n",
       "6        999\n",
       "7          4\n",
       "8        999\n",
       "9        999\n",
       "10       999\n",
       "11       999\n",
       "12       999\n",
       "13       999\n",
       "14       999\n",
       "15       999\n",
       "16       999\n",
       "17       999\n",
       "18       999\n",
       "19       999\n",
       "20       999\n",
       "21       999\n",
       "22       999\n",
       "23       999\n",
       "24       999\n",
       "25       999\n",
       "26       999\n",
       "27       999\n",
       "28         1\n",
       "29       999\n",
       "        ... \n",
       "55241    999\n",
       "55242    999\n",
       "55243    999\n",
       "55244    999\n",
       "55245    999\n",
       "55246    999\n",
       "55247    999\n",
       "55248    999\n",
       "55249    999\n",
       "55250      5\n",
       "55251    999\n",
       "55252    999\n",
       "55253    999\n",
       "55254    999\n",
       "55255    999\n",
       "55256    999\n",
       "55257    999\n",
       "55258    999\n",
       "55259    999\n",
       "55260    999\n",
       "55261    999\n",
       "55262    999\n",
       "55263    999\n",
       "55264    999\n",
       "55265    999\n",
       "55266    999\n",
       "55267    999\n",
       "55268    999\n",
       "55269    999\n",
       "55270    999\n",
       "Name: prdaypyr_c, Length: 55271, dtype: int64"
      ]
     },
     "execution_count": 92,
     "metadata": {},
     "output_type": "execute_result"
    }
   ],
   "source": [
    "df['prdaypyr_c']"
   ]
  },
  {
   "cell_type": "code",
   "execution_count": null,
   "metadata": {},
   "outputs": [],
   "source": []
  }
 ],
 "metadata": {
  "kernelspec": {
   "display_name": "Python 3",
   "language": "python",
   "name": "python3"
  },
  "language_info": {
   "codemirror_mode": {
    "name": "ipython",
    "version": 3
   },
   "file_extension": ".py",
   "mimetype": "text/x-python",
   "name": "python",
   "nbconvert_exporter": "python",
   "pygments_lexer": "ipython3",
   "version": "3.6.5"
  }
 },
 "nbformat": 4,
 "nbformat_minor": 2
}
