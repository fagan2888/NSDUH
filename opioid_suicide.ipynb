{
 "cells": [
  {
   "cell_type": "code",
   "execution_count": 1,
   "metadata": {},
   "outputs": [],
   "source": [
    "import pandas as pd\n",
    "import numpy as np\n",
    "import statsmodels.api as sm\n",
    "from sklearn.linear_model import LogisticRegression"
   ]
  },
  {
   "cell_type": "code",
   "execution_count": null,
   "metadata": {},
   "outputs": [],
   "source": [
    "#convert stata data to pandas\n",
    "stata_data='../NSDUH_2017.DTA'\n",
    "df=pd.read_stata(stata_data)"
   ]
  },
  {
   "cell_type": "code",
   "execution_count": null,
   "metadata": {},
   "outputs": [],
   "source": [
    "df.shape[0]"
   ]
  },
  {
   "cell_type": "code",
   "execution_count": null,
   "metadata": {},
   "outputs": [],
   "source": [
    "dfa = df[df['CATAG2']!='1 - 12-17 Years Old']\n",
    "dfa = dfa[df.suicplan != '85 - BAD DATA Logically assigned']\n",
    "dfa = dfa[df.suicplan != '94 - DON T KNOW']\n",
    "dfa = dfa[df.suicplan != '97 - REFUSED']\n",
    "dfa = dfa[df.suicplan != '98 - BLANK']"
   ]
  },
  {
   "cell_type": "code",
   "execution_count": null,
   "metadata": {},
   "outputs": [],
   "source": [
    "dfa.shape[0]"
   ]
  },
  {
   "cell_type": "code",
   "execution_count": null,
   "metadata": {},
   "outputs": [],
   "source": [
    "dfa.groupby(['suicplan']).size()"
   ]
  },
  {
   "cell_type": "code",
   "execution_count": null,
   "metadata": {},
   "outputs": [],
   "source": [
    "dfa.loc[df.suicplan=='1 - Yes', 'suicide'] = 'plan'\n",
    "dfa.loc[df.suicplan=='2 - No', 'suicide'] = 'thought'\n",
    "dfa.loc[df.suicplan=='99 - LEGITIMATE SKIP', 'suicide'] = 'no'"
   ]
  },
  {
   "cell_type": "code",
   "execution_count": null,
   "metadata": {},
   "outputs": [],
   "source": [
    "dfa.groupby('irpnrnmrec').size()"
   ]
  },
  {
   "cell_type": "code",
   "execution_count": null,
   "metadata": {},
   "outputs": [],
   "source": [
    "dfa.loc[dfa.irpnrnmrec=='1 - Within the past 30 days', 'misuse'] = 'last year'\n",
    "dfa.loc[dfa.irpnrnmrec=='2 - More than 30 days ago but within the past 12 mos', 'misuse'] = 'last year'\n",
    "dfa.loc[dfa.irpnrnmrec=='3 - More than 12 months ago', 'misuse'] = 'sometime'\n",
    "dfa.loc[dfa.irpnrnmrec=='9 - NEVER MISUSED PAIN RELIEVERS', 'misuse'] = 'never'"
   ]
  },
  {
   "cell_type": "code",
   "execution_count": null,
   "metadata": {},
   "outputs": [],
   "source": [
    "dfb=dfa[dfa.misuse!='sometime']\n",
    "dfb.shape[0]"
   ]
  },
  {
   "cell_type": "code",
   "execution_count": null,
   "metadata": {},
   "outputs": [],
   "source": [
    "gf=dfb.groupby(['suicide','misuse']).size()"
   ]
  },
  {
   "cell_type": "code",
   "execution_count": null,
   "metadata": {},
   "outputs": [],
   "source": [
    "#y=dfb.suicide\n",
    "#dummies = pd.get_dummies(y)\n",
    "#y=dummies['plan']"
   ]
  },
  {
   "cell_type": "code",
   "execution_count": null,
   "metadata": {},
   "outputs": [],
   "source": [
    "#X=dfb.misuse\n",
    "#X = 1-pd.get_dummies(X)['never']"
   ]
  },
  {
   "cell_type": "code",
   "execution_count": null,
   "metadata": {},
   "outputs": [],
   "source": [
    "dfb['s_yes_no']=dfb['suicide'].apply(lambda x: 1 if x=='plan' else 0)\n",
    "dfb['o_yes_no']=dfb['misuse'].apply(lambda x: 0 if x=='never' else 1)"
   ]
  },
  {
   "cell_type": "code",
   "execution_count": null,
   "metadata": {},
   "outputs": [],
   "source": [
    "dfb[['o_yes_no','s_yes_no']].corr()"
   ]
  },
  {
   "cell_type": "code",
   "execution_count": null,
   "metadata": {},
   "outputs": [],
   "source": [
    "X=dfb['o_yes_no']\n",
    "X=np.array(X).reshape(-1,1)\n",
    "y=dfb['s_yes_no']"
   ]
  },
  {
   "cell_type": "code",
   "execution_count": null,
   "metadata": {},
   "outputs": [],
   "source": [
    "clf = LogisticRegression(random_state=0, solver='lbfgs',\n",
    "...                          multi_class='multinomial').fit(X, y)"
   ]
  },
  {
   "cell_type": "code",
   "execution_count": null,
   "metadata": {},
   "outputs": [],
   "source": [
    "coef=clf.coef_\n",
    "coef"
   ]
  },
  {
   "cell_type": "code",
   "execution_count": null,
   "metadata": {},
   "outputs": [],
   "source": [
    "np.exp(coef)"
   ]
  },
  {
   "cell_type": "code",
   "execution_count": null,
   "metadata": {},
   "outputs": [],
   "source": [
    "dfb[dfb['s_yes_no']==1].shape[0]"
   ]
  },
  {
   "cell_type": "code",
   "execution_count": null,
   "metadata": {},
   "outputs": [],
   "source": [
    "#not user suicide rate\n",
    "dfb[(dfb['s_yes_no']==1) & (dfb['o_yes_no']==0)].shape[0]/dfb[dfb['o_yes_no']==0].shape[0]"
   ]
  },
  {
   "cell_type": "code",
   "execution_count": null,
   "metadata": {},
   "outputs": [],
   "source": [
    "#users suicide rate\n",
    "dfb[(dfb['s_yes_no']==1) & (dfb['o_yes_no']==1)].shape[0]/dfb[dfb['o_yes_no']==1].shape[0]"
   ]
  }
 ],
 "metadata": {
  "kernelspec": {
   "display_name": "myenv",
   "language": "python",
   "name": "myenv"
  },
  "language_info": {
   "codemirror_mode": {
    "name": "ipython",
    "version": 3
   },
   "file_extension": ".py",
   "mimetype": "text/x-python",
   "name": "python",
   "nbconvert_exporter": "python",
   "pygments_lexer": "ipython3",
   "version": "3.7.1"
  }
 },
 "nbformat": 4,
 "nbformat_minor": 2
}
