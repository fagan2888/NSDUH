{
 "cells": [
  {
   "cell_type": "code",
   "execution_count": 22,
   "metadata": {},
   "outputs": [],
   "source": [
    "import numpy as np"
   ]
  },
  {
   "cell_type": "code",
   "execution_count": 23,
   "metadata": {},
   "outputs": [],
   "source": [
    "import pandas as pd"
   ]
  },
  {
   "cell_type": "code",
   "execution_count": 50,
   "metadata": {},
   "outputs": [],
   "source": [
    "#convert stata data to pandas\n",
    "stata_data='~/Downloads/NSDUH-2014-DS0001-bndl-data-stata/NSDUH_2014.DTA'\n",
    "df=pd.read_stata(stata_data)\n",
    "t=df.shape[0]"
   ]
  },
  {
   "cell_type": "code",
   "execution_count": 131,
   "metadata": {},
   "outputs": [
    {
     "data": {
      "text/plain": [
       "prdaypyr\n",
       "1                                                        260\n",
       "2                                                        209\n",
       "3                                                        186\n",
       "4                                                         86\n",
       "5                                                        138\n",
       "6                                                         39\n",
       "7                                                         33\n",
       "8                                                         22\n",
       "9                                                          6\n",
       "10                                                        86\n",
       "12                                                        30\n",
       "13                                                         3\n",
       "14                                                        12\n",
       "15                                                        43\n",
       "16                                                         3\n",
       "18                                                         2\n",
       "20                                                        25\n",
       "21                                                         1\n",
       "22                                                         2\n",
       "24                                                         2\n",
       "25                                                         6\n",
       "28                                                         2\n",
       "30                                                        38\n",
       "31                                                         1\n",
       "35                                                         2\n",
       "40                                                         4\n",
       "45                                                         2\n",
       "50                                                         5\n",
       "56                                                         1\n",
       "60                                                         5\n",
       "70                                                         1\n",
       "75                                                         1\n",
       "80                                                         1\n",
       "90                                                         2\n",
       "100                                                        2\n",
       "140                                                        1\n",
       "150                                                        1\n",
       "155                                                        1\n",
       "160                                                        2\n",
       "200                                                        3\n",
       "240                                                        1\n",
       "250                                                        2\n",
       "260                                                        1\n",
       "320                                                        1\n",
       "330                                                        1\n",
       "365                                                        7\n",
       "981 - NEVER USED PAIN RELIEVERS Logically assigned        68\n",
       "985 - BAD DATA Logically assigned                         12\n",
       "989 - LEGITIMATE SKIP Logically assigned                  17\n",
       "991 - NEVER USED PAIN RELIEVERS                        47064\n",
       "993 - DID NOT USE PAIN RELIEVERS IN THE PAST 12 MOS     5139\n",
       "994 - DON T KNOW                                          38\n",
       "997 - REFUSED                                             15\n",
       "998 - BLANK                                              412\n",
       "999 - LEGITIMATE SKIP                                   1224\n",
       "dtype: int64"
      ]
     },
     "execution_count": 131,
     "metadata": {},
     "output_type": "execute_result"
    }
   ],
   "source": [
    "df.groupby(['prdaypyr']).size()"
   ]
  },
  {
   "cell_type": "code",
   "execution_count": 107,
   "metadata": {},
   "outputs": [],
   "source": [
    "df['prdaypyr_c']=df['prdaypyr'].apply(lambda x : x if type(x) is int else 999)"
   ]
  },
  {
   "cell_type": "code",
   "execution_count": 129,
   "metadata": {},
   "outputs": [],
   "source": [
    "bins = [0, 11, 51,365,999]\n",
    "df['prdaypyr_cc']=pd.cut(df['prdaypyr_c'],bins)"
   ]
  },
  {
   "cell_type": "code",
   "execution_count": 130,
   "metadata": {},
   "outputs": [
    {
     "data": {
      "text/plain": [
       "prdaypyr_cc\n",
       "(0, 11]        1065\n",
       "(11, 51]        183\n",
       "(51, 365]        34\n",
       "(365, 999]    53989\n",
       "dtype: int64"
      ]
     },
     "execution_count": 130,
     "metadata": {},
     "output_type": "execute_result"
    }
   ],
   "source": [
    "df.groupby('prdaypyr_cc').size()"
   ]
  },
  {
   "cell_type": "code",
   "execution_count": 116,
   "metadata": {},
   "outputs": [
    {
     "data": {
      "text/plain": [
       "prdaypyr_cc\n",
       "12        30\n",
       "13         3\n",
       "14        12\n",
       "15        43\n",
       "16         3\n",
       "18         2\n",
       "20        25\n",
       "21         1\n",
       "22         2\n",
       "24         2\n",
       "25         6\n",
       "28         2\n",
       "30        38\n",
       "31         1\n",
       "35         2\n",
       "40         4\n",
       "45         2\n",
       "50         5\n",
       "56         1\n",
       "60         5\n",
       "70         1\n",
       "75         1\n",
       "80         1\n",
       "90         2\n",
       "100        2\n",
       "140        1\n",
       "150        1\n",
       "155        1\n",
       "160        2\n",
       "200        3\n",
       "240        1\n",
       "250        2\n",
       "260        1\n",
       "320        1\n",
       "330        1\n",
       "365        7\n",
       "999    53989\n",
       "lm      1065\n",
       "dtype: int64"
      ]
     },
     "execution_count": 116,
     "metadata": {},
     "output_type": "execute_result"
    }
   ],
   "source": [
    "df.groupby('prdaypyr_cc').size()"
   ]
  },
  {
   "cell_type": "code",
   "execution_count": null,
   "metadata": {},
   "outputs": [],
   "source": []
  }
 ],
 "metadata": {
  "kernelspec": {
   "display_name": "Python 3",
   "language": "python",
   "name": "python3"
  },
  "language_info": {
   "codemirror_mode": {
    "name": "ipython",
    "version": 3
   },
   "file_extension": ".py",
   "mimetype": "text/x-python",
   "name": "python",
   "nbconvert_exporter": "python",
   "pygments_lexer": "ipython3",
   "version": "3.6.5"
  }
 },
 "nbformat": 4,
 "nbformat_minor": 2
}
