{
 "cells": [
  {
   "cell_type": "code",
   "execution_count": 1,
   "metadata": {},
   "outputs": [],
   "source": [
    "import pandas as pd"
   ]
  },
  {
   "cell_type": "code",
   "execution_count": 2,
   "metadata": {},
   "outputs": [],
   "source": [
    "#convert stata data to pandas\n",
    "stata_data='C:/Users/Ramin/Desktop/NSDUH_2017.DTA'\n",
    "df=pd.read_stata(stata_data)\n",
    "t=df.shape[0]"
   ]
  },
  {
   "cell_type": "code",
   "execution_count": 3,
   "metadata": {},
   "outputs": [],
   "source": [
    "dfm=df[df['irsex']=='1 - Male']\n",
    "tm=dfm.shape[0]\n",
    "dff=df[df['irsex']=='2 - Female']\n",
    "tf=dff.shape[0]"
   ]
  },
  {
   "cell_type": "code",
   "execution_count": 4,
   "metadata": {
    "scrolled": false
   },
   "outputs": [
    {
     "name": "stdout",
     "output_type": "stream",
     "text": [
      "Empty DataFrame\n",
      "Columns: [index, Male, Female, Female/Male]\n",
      "Index: []\n",
      "-----------------------------------------------\n",
      "                                          CIG30TPE   Male  Female  Female/Male\n",
      "0                                 2 - Ultra Lights    195     314     1.610256\n",
      "1                       91 - NEVER USED CIGARETTES  13034   15937     1.222725\n",
      "2  93 - DID NOT USE CIGARETTES IN THE PAST 30 DAYS   8489    8529     1.004712\n",
      "3                                       1 - Lights   1638    1644     1.003663\n",
      "4                                      3 - Mediums    657     545     0.829528\n",
      "5                                  4 - Full Flavor   2900    2139     0.737586\n",
      "-----------------------------------------------\n",
      "                                        alcyrtot  Male  Female  Female/Male\n",
      "0                                              3   420     766     1.823810\n",
      "1                                              4   331     569     1.719033\n",
      "2                                              5   436     744     1.706422\n",
      "3                                              6   240     401     1.670833\n",
      "4                                              2   430     694     1.613953\n",
      "5                                             10   383     565     1.475196\n",
      "6                                             12   758    1068     1.408971\n",
      "7                                             24   966    1230     1.273292\n",
      "8                                             36   814     991     1.217445\n",
      "9   993 - DID NOT USE ALCOHOL IN THE PAST 12 MOS  2869    3399     1.184733\n",
      "10                                            48   690     770     1.115942\n",
      "11                                             1   500     554     1.108000\n",
      "12                      991 - NEVER USED ALCOHOL  7615    8100     1.063690\n",
      "13                                            60   613     632     1.030995\n",
      "14                                           120   330     337     1.021212\n",
      "15                                            52  1208    1230     1.018212\n",
      "16                                            72   288     284     0.986111\n",
      "17                                           104  1528    1371     0.897251\n",
      "18                                           156  1354    1106     0.816839\n",
      "19                                           208   783     565     0.721584\n",
      "20                                           260   719     484     0.673157\n",
      "21                                           312   379     211     0.556728\n",
      "-----------------------------------------------\n",
      "                                       aldaypyr   Male  Female  Female/Male\n",
      "0                                             3    408     754     1.848039\n",
      "1                                             4    318     551     1.732704\n",
      "2                                             5    429     729     1.699301\n",
      "3                                             6    234     391     1.670940\n",
      "4                                             2    413     683     1.653753\n",
      "5                                            10    373     551     1.477212\n",
      "6  993 - DID NOT USE ALCOHOL IN THE PAST 12 MOS   2869    3399     1.184733\n",
      "7                                             1    498     552     1.108434\n",
      "8                      991 - NEVER USED ALCOHOL   7615    8100     1.063690\n",
      "9                         999 - LEGITIMATE SKIP  12001   11538     0.961420\n",
      "-----------------------------------------------\n"
     ]
    }
   ],
   "source": [
    "#Find Variables with a\n",
    "for c in df.columns[0:100]:\n",
    "    sm=dfm.groupby(c)[c].count()\n",
    "    sf=dff.groupby(c)[c].count()\n",
    "    dg=pd.DataFrame(dict(Male = sm, Female = sf)).reset_index()\n",
    "    dg=dg[(dg.Female>tf/100) | (dg.Male>tm/100)]\n",
    "    dg['Female/Male']=dg.Female/dg.Male\n",
    "    if dg.shape[0]>0 and dg['Female/Male'].max()<1.5:\n",
    "        continue    \n",
    "    dgs=dg.sort_values('Female/Male',ascending=False).reset_index(drop=True)\n",
    "    print(dgs)\n",
    "    print('-----------------------------------------------')"
   ]
  },
  {
   "cell_type": "code",
   "execution_count": 22,
   "metadata": {},
   "outputs": [
    {
     "data": {
      "text/plain": [
       "opinmyr  AD_MDEA9                         \n",
       "0 - No   1 - Has symptom                       4399.0\n",
       "         2 - Does not have symptom             2365.0\n",
       "         94 - DON T KNOW                         14.0\n",
       "         97 - REFUSED                            16.0\n",
       "         98 - OTHER MISSING/NOT APPLICABLE    33425.0\n",
       "         99 - LEGITIMATE SKIP                 13264.0\n",
       "1 - Yes  1 - Has symptom                        589.0\n",
       "         2 - Does not have symptom              180.0\n",
       "         94 - DON T KNOW                          1.0\n",
       "         97 - REFUSED                             NaN\n",
       "         98 - OTHER MISSING/NOT APPLICABLE     1565.0\n",
       "         99 - LEGITIMATE SKIP                   458.0\n",
       "Name: QUESTID2, dtype: float64"
      ]
     },
     "execution_count": 22,
     "metadata": {},
     "output_type": "execute_result"
    }
   ],
   "source": [
    "df.groupby([\"opinmyr\",\"AD_MDEA9\"]).count()[\"QUESTID2\"]"
   ]
  },
  {
   "cell_type": "code",
   "execution_count": 91,
   "metadata": {},
   "outputs": [
    {
     "name": "stdout",
     "output_type": "stream",
     "text": [
      "Number of people have NOT misused opioid past year:  53483\n",
      "Number of people misused opioid past year:  2793\n"
     ]
    }
   ],
   "source": [
    "df_no_opiod=df[df['opinmyr']=='0 - No']\n",
    "no_opiod=df_no_opiod.shape[0]\n",
    "df_yes_opiod=df[df['opinmyr']=='1 - Yes']\n",
    "yes_opiod=df_yes_opiod.shape[0]\n",
    "print('Number of people have NOT misused opioid past year: ', no_opiod)\n",
    "print('Number of people misused opioid past year: ', yes_opiod)"
   ]
  },
  {
   "cell_type": "code",
   "execution_count": 106,
   "metadata": {},
   "outputs": [
    {
     "data": {
      "text/html": [
       "<div>\n",
       "<style scoped>\n",
       "    .dataframe tbody tr th:only-of-type {\n",
       "        vertical-align: middle;\n",
       "    }\n",
       "\n",
       "    .dataframe tbody tr th {\n",
       "        vertical-align: top;\n",
       "    }\n",
       "\n",
       "    .dataframe thead th {\n",
       "        text-align: right;\n",
       "    }\n",
       "</style>\n",
       "<table border=\"1\" class=\"dataframe\">\n",
       "  <thead>\n",
       "    <tr style=\"text-align: right;\">\n",
       "      <th></th>\n",
       "      <th>misuse</th>\n",
       "      <th>nomisuse</th>\n",
       "      <th>misuse/nomisuse</th>\n",
       "    </tr>\n",
       "    <tr>\n",
       "      <th>AD_MDEA9</th>\n",
       "      <th></th>\n",
       "      <th></th>\n",
       "      <th></th>\n",
       "    </tr>\n",
       "  </thead>\n",
       "  <tbody>\n",
       "    <tr>\n",
       "      <th>1 - Has symptom</th>\n",
       "      <td>589</td>\n",
       "      <td>4399</td>\n",
       "      <td>0.133894</td>\n",
       "    </tr>\n",
       "    <tr>\n",
       "      <th>2 - Does not have symptom</th>\n",
       "      <td>180</td>\n",
       "      <td>2365</td>\n",
       "      <td>0.076110</td>\n",
       "    </tr>\n",
       "    <tr>\n",
       "      <th>98 - OTHER MISSING/NOT APPLICABLE</th>\n",
       "      <td>1565</td>\n",
       "      <td>33425</td>\n",
       "      <td>0.046821</td>\n",
       "    </tr>\n",
       "    <tr>\n",
       "      <th>99 - LEGITIMATE SKIP</th>\n",
       "      <td>458</td>\n",
       "      <td>13264</td>\n",
       "      <td>0.034530</td>\n",
       "    </tr>\n",
       "  </tbody>\n",
       "</table>\n",
       "</div>"
      ],
      "text/plain": [
       "                                   misuse  nomisuse  misuse/nomisuse\n",
       "AD_MDEA9                                                            \n",
       "1 - Has symptom                       589      4399         0.133894\n",
       "2 - Does not have symptom             180      2365         0.076110\n",
       "98 - OTHER MISSING/NOT APPLICABLE    1565     33425         0.046821\n",
       "99 - LEGITIMATE SKIP                  458     13264         0.034530"
      ]
     },
     "execution_count": 106,
     "metadata": {},
     "output_type": "execute_result"
    }
   ],
   "source": [
    "opiod_nomisuse=df_no_opiod.groupby(\"AD_MDEA9\")[\"AD_MDEA9\"].count()\n",
    "opiod_misuse=df_yes_opiod.groupby(\"AD_MDEA9\")[\"AD_MDEA9\"].count()\n",
    "dg=pd.DataFrame(dict(misuse = opiod_misuse, nomisuse = opiod_nomisuse))\n",
    "dg=dg[(dg.misuse>yes_opiod/100) | (dg.nomisuse>no_opiod/100)]\n",
    "dg['misuse/nomisuse']=dg.misuse/dg.nomisuse  \n",
    "dgs=dg.sort_values('misuse/nomisuse',ascending=False)\n",
    "dgs"
   ]
  },
  {
   "cell_type": "code",
   "execution_count": 120,
   "metadata": {},
   "outputs": [
    {
     "name": "stdout",
     "output_type": "stream",
     "text": [
      "The proportion of Has symptom to the LEGITIMATE SKIP WITH opiod misuse:  1.2860262008733625\n",
      "The proportion of Has symptom to the LEGITIMATE SKIP WITHOUT opiod misuse:  0.3316495778045838\n"
     ]
    }
   ],
   "source": [
    "# Find the proportions\n",
    "p1 = dgs['misuse']['1 - Has symptom'] / dgs['misuse']['99 - LEGITIMATE SKIP']\n",
    "p2 =dgs['nomisuse']['1 - Has symptom'] / dgs['nomisuse']['99 - LEGITIMATE SKIP']\n",
    "print(\"The proportion of Has symptom to the LEGITIMATE SKIP WITH opiod misuse: \", p1)\n",
    "print(\"The proportion of Has symptom to the LEGITIMATE SKIP WITHOUT opiod misuse: \", p2)"
   ]
  },
  {
   "cell_type": "code",
   "execution_count": 121,
   "metadata": {},
   "outputs": [],
   "source": [
    "dgs.index.names = ['Any Thoughts Or Plans Of Suicide in Adults']\n"
   ]
  },
  {
   "cell_type": "code",
   "execution_count": 122,
   "metadata": {},
   "outputs": [
    {
     "data": {
      "text/html": [
       "<div>\n",
       "<style scoped>\n",
       "    .dataframe tbody tr th:only-of-type {\n",
       "        vertical-align: middle;\n",
       "    }\n",
       "\n",
       "    .dataframe tbody tr th {\n",
       "        vertical-align: top;\n",
       "    }\n",
       "\n",
       "    .dataframe thead th {\n",
       "        text-align: right;\n",
       "    }\n",
       "</style>\n",
       "<table border=\"1\" class=\"dataframe\">\n",
       "  <thead>\n",
       "    <tr style=\"text-align: right;\">\n",
       "      <th></th>\n",
       "      <th>misuse</th>\n",
       "      <th>nomisuse</th>\n",
       "      <th>misuse/nomisuse</th>\n",
       "    </tr>\n",
       "    <tr>\n",
       "      <th>Date</th>\n",
       "      <th></th>\n",
       "      <th></th>\n",
       "      <th></th>\n",
       "    </tr>\n",
       "  </thead>\n",
       "  <tbody>\n",
       "    <tr>\n",
       "      <th>1 - Has symptom</th>\n",
       "      <td>589</td>\n",
       "      <td>4399</td>\n",
       "      <td>0.133894</td>\n",
       "    </tr>\n",
       "    <tr>\n",
       "      <th>2 - Does not have symptom</th>\n",
       "      <td>180</td>\n",
       "      <td>2365</td>\n",
       "      <td>0.076110</td>\n",
       "    </tr>\n",
       "    <tr>\n",
       "      <th>98 - OTHER MISSING/NOT APPLICABLE</th>\n",
       "      <td>1565</td>\n",
       "      <td>33425</td>\n",
       "      <td>0.046821</td>\n",
       "    </tr>\n",
       "    <tr>\n",
       "      <th>99 - LEGITIMATE SKIP</th>\n",
       "      <td>458</td>\n",
       "      <td>13264</td>\n",
       "      <td>0.034530</td>\n",
       "    </tr>\n",
       "  </tbody>\n",
       "</table>\n",
       "</div>"
      ],
      "text/plain": [
       "                                   misuse  nomisuse  misuse/nomisuse\n",
       "Date                                                                \n",
       "1 - Has symptom                       589      4399         0.133894\n",
       "2 - Does not have symptom             180      2365         0.076110\n",
       "98 - OTHER MISSING/NOT APPLICABLE    1565     33425         0.046821\n",
       "99 - LEGITIMATE SKIP                  458     13264         0.034530"
      ]
     },
     "execution_count": 122,
     "metadata": {},
     "output_type": "execute_result"
    }
   ],
   "source": [
    "dgs"
   ]
  },
  {
   "cell_type": "code",
   "execution_count": null,
   "metadata": {},
   "outputs": [],
   "source": []
  }
 ],
 "metadata": {
  "kernelspec": {
   "display_name": "Python 3",
   "language": "python",
   "name": "python3"
  },
  "language_info": {
   "codemirror_mode": {
    "name": "ipython",
    "version": 3
   },
   "file_extension": ".py",
   "mimetype": "text/x-python",
   "name": "python",
   "nbconvert_exporter": "python",
   "pygments_lexer": "ipython3",
   "version": "3.7.1"
  }
 },
 "nbformat": 4,
 "nbformat_minor": 2
}
