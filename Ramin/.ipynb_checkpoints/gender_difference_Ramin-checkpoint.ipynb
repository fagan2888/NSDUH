{
 "cells": [
  {
   "cell_type": "code",
   "execution_count": 1,
   "metadata": {},
   "outputs": [],
   "source": [
    "import pandas as pd"
   ]
  },
  {
   "cell_type": "code",
   "execution_count": 2,
   "metadata": {},
   "outputs": [],
   "source": [
    "#convert stata data to pandas\n",
    "stata_data='C:/Users/Ramin/Desktop/NSDUH_2017.DTA'\n",
    "df=pd.read_stata(stata_data)\n",
    "t=df.shape[0]"
   ]
  },
  {
   "cell_type": "code",
   "execution_count": 3,
   "metadata": {},
   "outputs": [],
   "source": [
    "dfm=df[df['irsex']=='1 - Male']\n",
    "tm=dfm.shape[0]\n",
    "dff=df[df['irsex']=='2 - Female']\n",
    "tf=dff.shape[0]"
   ]
  },
  {
   "cell_type": "code",
   "execution_count": 4,
   "metadata": {
    "scrolled": false
   },
   "outputs": [
    {
     "name": "stdout",
     "output_type": "stream",
     "text": [
      "Empty DataFrame\n",
      "Columns: [index, Male, Female, Female/Male]\n",
      "Index: []\n",
      "-----------------------------------------------\n",
      "                                          CIG30TPE   Male  Female  Female/Male\n",
      "0                                 2 - Ultra Lights    195     314     1.610256\n",
      "1                       91 - NEVER USED CIGARETTES  13034   15937     1.222725\n",
      "2  93 - DID NOT USE CIGARETTES IN THE PAST 30 DAYS   8489    8529     1.004712\n",
      "3                                       1 - Lights   1638    1644     1.003663\n",
      "4                                      3 - Mediums    657     545     0.829528\n",
      "5                                  4 - Full Flavor   2900    2139     0.737586\n",
      "-----------------------------------------------\n",
      "                                        alcyrtot  Male  Female  Female/Male\n",
      "0                                              3   420     766     1.823810\n",
      "1                                              4   331     569     1.719033\n",
      "2                                              5   436     744     1.706422\n",
      "3                                              6   240     401     1.670833\n",
      "4                                              2   430     694     1.613953\n",
      "5                                             10   383     565     1.475196\n",
      "6                                             12   758    1068     1.408971\n",
      "7                                             24   966    1230     1.273292\n",
      "8                                             36   814     991     1.217445\n",
      "9   993 - DID NOT USE ALCOHOL IN THE PAST 12 MOS  2869    3399     1.184733\n",
      "10                                            48   690     770     1.115942\n",
      "11                                             1   500     554     1.108000\n",
      "12                      991 - NEVER USED ALCOHOL  7615    8100     1.063690\n",
      "13                                            60   613     632     1.030995\n",
      "14                                           120   330     337     1.021212\n",
      "15                                            52  1208    1230     1.018212\n",
      "16                                            72   288     284     0.986111\n",
      "17                                           104  1528    1371     0.897251\n",
      "18                                           156  1354    1106     0.816839\n",
      "19                                           208   783     565     0.721584\n",
      "20                                           260   719     484     0.673157\n",
      "21                                           312   379     211     0.556728\n",
      "-----------------------------------------------\n",
      "                                       aldaypyr   Male  Female  Female/Male\n",
      "0                                             3    408     754     1.848039\n",
      "1                                             4    318     551     1.732704\n",
      "2                                             5    429     729     1.699301\n",
      "3                                             6    234     391     1.670940\n",
      "4                                             2    413     683     1.653753\n",
      "5                                            10    373     551     1.477212\n",
      "6  993 - DID NOT USE ALCOHOL IN THE PAST 12 MOS   2869    3399     1.184733\n",
      "7                                             1    498     552     1.108434\n",
      "8                      991 - NEVER USED ALCOHOL   7615    8100     1.063690\n",
      "9                         999 - LEGITIMATE SKIP  12001   11538     0.961420\n",
      "-----------------------------------------------\n"
     ]
    }
   ],
   "source": [
    "#Find Variables with a\n",
    "for c in df.columns[0:100]:\n",
    "    sm=dfm.groupby(c)[c].count()\n",
    "    sf=dff.groupby(c)[c].count()\n",
    "    dg=pd.DataFrame(dict(Male = sm, Female = sf)).reset_index()\n",
    "    dg=dg[(dg.Female>tf/100) | (dg.Male>tm/100)]\n",
    "    dg['Female/Male']=dg.Female/dg.Male\n",
    "    if dg.shape[0]>0 and dg['Female/Male'].max()<1.5:\n",
    "        continue    \n",
    "    dgs=dg.sort_values('Female/Male',ascending=False).reset_index(drop=True)\n",
    "    print(dgs)\n",
    "    print('-----------------------------------------------')"
   ]
  },
  {
   "cell_type": "code",
   "execution_count": 40,
   "metadata": {},
   "outputs": [],
   "source": [
    "# df.groupby([\"opinmyr\",\"AD_MDEA9\"])[\"AD_MDEA9\"].count()"
   ]
  },
  {
   "cell_type": "code",
   "execution_count": 9,
   "metadata": {},
   "outputs": [
    {
     "name": "stdout",
     "output_type": "stream",
     "text": [
      "Number of respondents have NOT misused opioid past year:  53483\n",
      "Number of respondents misused opioid past year:  2793\n"
     ]
    }
   ],
   "source": [
    "df_no_opiod=df[df['opinmyr']=='0 - No']\n",
    "no_opiod=df_no_opiod.shape[0]\n",
    "df_yes_opiod=df[df['opinmyr']=='1 - Yes']\n",
    "yes_opiod=df_yes_opiod.shape[0]\n",
    "print('Number of respondents have NOT misused opioid past year: ', no_opiod)\n",
    "print('Number of respondents misused opioid past year: ', yes_opiod)"
   ]
  },
  {
   "cell_type": "code",
   "execution_count": 10,
   "metadata": {},
   "outputs": [
    {
     "data": {
      "text/html": [
       "<div>\n",
       "<style scoped>\n",
       "    .dataframe tbody tr th:only-of-type {\n",
       "        vertical-align: middle;\n",
       "    }\n",
       "\n",
       "    .dataframe tbody tr th {\n",
       "        vertical-align: top;\n",
       "    }\n",
       "\n",
       "    .dataframe thead th {\n",
       "        text-align: right;\n",
       "    }\n",
       "</style>\n",
       "<table border=\"1\" class=\"dataframe\">\n",
       "  <thead>\n",
       "    <tr style=\"text-align: right;\">\n",
       "      <th></th>\n",
       "      <th>Opioid_misuse_past_year</th>\n",
       "      <th>No_Opioid_misuse_past_year</th>\n",
       "    </tr>\n",
       "    <tr>\n",
       "      <th>Any Thoughts or Plans of Suicide in Adults</th>\n",
       "      <th></th>\n",
       "      <th></th>\n",
       "    </tr>\n",
       "  </thead>\n",
       "  <tbody>\n",
       "    <tr>\n",
       "      <th>1 - Has symptom</th>\n",
       "      <td>589</td>\n",
       "      <td>4399</td>\n",
       "    </tr>\n",
       "    <tr>\n",
       "      <th>2 - Does not have symptom</th>\n",
       "      <td>180</td>\n",
       "      <td>2365</td>\n",
       "    </tr>\n",
       "    <tr>\n",
       "      <th>94 - DON T KNOW</th>\n",
       "      <td>1</td>\n",
       "      <td>14</td>\n",
       "    </tr>\n",
       "    <tr>\n",
       "      <th>97 - REFUSED</th>\n",
       "      <td>0</td>\n",
       "      <td>16</td>\n",
       "    </tr>\n",
       "    <tr>\n",
       "      <th>98 - OTHER MISSING/NOT APPLICABLE</th>\n",
       "      <td>1565</td>\n",
       "      <td>33425</td>\n",
       "    </tr>\n",
       "    <tr>\n",
       "      <th>99 - LEGITIMATE SKIP</th>\n",
       "      <td>458</td>\n",
       "      <td>13264</td>\n",
       "    </tr>\n",
       "  </tbody>\n",
       "</table>\n",
       "</div>"
      ],
      "text/plain": [
       "                                            Opioid_misuse_past_year  \\\n",
       "Any Thoughts or Plans of Suicide in Adults                            \n",
       "1 - Has symptom                                                 589   \n",
       "2 - Does not have symptom                                       180   \n",
       "94 - DON T KNOW                                                   1   \n",
       "97 - REFUSED                                                      0   \n",
       "98 - OTHER MISSING/NOT APPLICABLE                              1565   \n",
       "99 - LEGITIMATE SKIP                                            458   \n",
       "\n",
       "                                            No_Opioid_misuse_past_year  \n",
       "Any Thoughts or Plans of Suicide in Adults                              \n",
       "1 - Has symptom                                                   4399  \n",
       "2 - Does not have symptom                                         2365  \n",
       "94 - DON T KNOW                                                     14  \n",
       "97 - REFUSED                                                        16  \n",
       "98 - OTHER MISSING/NOT APPLICABLE                                33425  \n",
       "99 - LEGITIMATE SKIP                                             13264  "
      ]
     },
     "execution_count": 10,
     "metadata": {},
     "output_type": "execute_result"
    }
   ],
   "source": [
    "opiod_misuse=df_yes_opiod.groupby(\"AD_MDEA9\")[\"AD_MDEA9\"].count()\n",
    "opiod_nomisuse=df_no_opiod.groupby(\"AD_MDEA9\")[\"AD_MDEA9\"].count()\n",
    "d=pd.DataFrame(dict(Opioid_misuse_past_year = opiod_misuse, No_Opioid_misuse_past_year = opiod_nomisuse))\n",
    "d.index.names = ['Any Thoughts or Plans of Suicide in Adults']\n",
    "d"
   ]
  },
  {
   "cell_type": "code",
   "execution_count": 8,
   "metadata": {},
   "outputs": [
    {
     "name": "stdout",
     "output_type": "stream",
     "text": [
      "The proportion of (Has symptom to the LEGITIMATE SKIP) WITH opiod misuse in Adults:  1.2860262008733625\n",
      "The proportion of (Has symptom to the LEGITIMATE SKIP) WITHOUT opiod misuse in Adults:  0.3316495778045838\n"
     ]
    }
   ],
   "source": [
    "# Find the proportions\n",
    "p1 = d['Opioid_misuse_past_year']['1 - Has symptom'] / d['Opioid_misuse_past_year']['99 - LEGITIMATE SKIP']\n",
    "p2 =d['No_Opioid_misuse_past_year']['1 - Has symptom'] / d['No_Opioid_misuse_past_year']['99 - LEGITIMATE SKIP']\n",
    "print(\"The proportion of (Has symptom to the LEGITIMATE SKIP) WITH opiod misuse in Adults: \", p1)\n",
    "print(\"The proportion of (Has symptom to the LEGITIMATE SKIP) WITHOUT opiod misuse in Adults: \", p2)"
   ]
  },
  {
   "cell_type": "code",
   "execution_count": 45,
   "metadata": {},
   "outputs": [],
   "source": [
    "# Add other variables (irsex)"
   ]
  },
  {
   "cell_type": "code",
   "execution_count": 124,
   "metadata": {},
   "outputs": [],
   "source": [
    "d3 = pd.DataFrame(df.groupby(['irsex','AD_MDEA9','opinmyr']).size())\n",
    "d3_m1 = d3.loc['1 - Male'].loc['1 - Has symptom'].loc['1 - Yes'].loc[0] / dd.loc['1 - Male'].loc['99 - LEGITIMATE SKIP'].loc['1 - Yes'].loc[0]\n",
    "d3_m2 = d3.loc['1 - Male'].loc['1 - Has symptom'].loc['0 - No'].loc[0] / dd.loc['1 - Male'].loc['99 - LEGITIMATE SKIP'].loc['0 - No'].loc[0]\n",
    "d3_f1 = d3.loc['2 - Female'].loc['1 - Has symptom'].loc['1 - Yes'].loc[0] / dd.loc['2 - Female'].loc['99 - LEGITIMATE SKIP'].loc['1 - Yes'].loc[0]\n",
    "d3_f2 = d3.loc['2 - Female'].loc['1 - Has symptom'].loc['0 - No'].loc[0] / dd.loc['2 - Female'].loc['99 - LEGITIMATE SKIP'].loc['0 - No'].loc[0]\n"
   ]
  },
  {
   "cell_type": "code",
   "execution_count": 125,
   "metadata": {},
   "outputs": [
    {
     "name": "stdout",
     "output_type": "stream",
     "text": [
      "The proportion of (Has symptom to the LEGITIMATE SKIP) WITH opiod misuse in Male Adults:  1.055299539170507\n",
      "The proportion of (Has symptom to the LEGITIMATE SKIP) WITHOUT opiod misuse in Male Adults:  0.23649934143128934\n",
      "The proportion of (Has symptom to the LEGITIMATE SKIP) WITH opiod misuse in Female Adults:  1.4937759336099585\n",
      "The proportion of (Has symptom to the LEGITIMATE SKIP) WITHOUT opiod misuse in Female Adults:  0.4327476286736122\n"
     ]
    }
   ],
   "source": [
    "print(\"The proportion of (Has symptom to the LEGITIMATE SKIP) WITH opiod misuse in Male Adults: \", d3_m1)\n",
    "print(\"The proportion of (Has symptom to the LEGITIMATE SKIP) WITHOUT opiod misuse in Male Adults: \", d3_m2)\n",
    "print(\"The proportion of (Has symptom to the LEGITIMATE SKIP) WITH opiod misuse in Female Adults: \", d3_f1)\n",
    "print(\"The proportion of (Has symptom to the LEGITIMATE SKIP) WITHOUT opiod misuse in Female Adults: \", d3_f2)"
   ]
  },
  {
   "cell_type": "code",
   "execution_count": null,
   "metadata": {},
   "outputs": [],
   "source": [
    "# Run through all of the variables"
   ]
  }
 ],
 "metadata": {
  "kernelspec": {
   "display_name": "Python 3",
   "language": "python",
   "name": "python3"
  },
  "language_info": {
   "codemirror_mode": {
    "name": "ipython",
    "version": 3
   },
   "file_extension": ".py",
   "mimetype": "text/x-python",
   "name": "python",
   "nbconvert_exporter": "python",
   "pygments_lexer": "ipython3",
   "version": "3.7.1"
  }
 },
 "nbformat": 4,
 "nbformat_minor": 2
}
