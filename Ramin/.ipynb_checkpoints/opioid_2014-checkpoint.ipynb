{
 "cells": [
  {
   "cell_type": "code",
   "execution_count": 1,
   "metadata": {},
   "outputs": [],
   "source": [
    "import numpy as np\n",
    "import pandas as pd"
   ]
  },
  {
   "cell_type": "code",
   "execution_count": 3,
   "metadata": {},
   "outputs": [],
   "source": [
    "#convert stata data to pandas\n",
    "stata_data='~/Downloads/NSDUH-2014-DS0001-bndl-data-stata/NSDUH_2014.DTA'\n",
    "df=pd.read_stata(stata_data)\n",
    "t=df.shape[0]"
   ]
  },
  {
   "cell_type": "code",
   "execution_count": 4,
   "metadata": {},
   "outputs": [],
   "source": [
    "df['prdaypyr_c']=df['prdaypyr'].apply(lambda x : x if type(x) is int else 999)\n",
    "df['prdaypyr_w']=df['prdaypwk'].apply(lambda x : x if type(x) is int else 900)\n",
    "df['prdaypyr_m']=df['prdaypmo'].apply(lambda x : x if type(x) is int else 800)"
   ]
  },
  {
   "cell_type": "code",
   "execution_count": 11,
   "metadata": {},
   "outputs": [],
   "source": [
    "# prdaypyr\n",
    "bins_c = [1, 12, 52,365,999]\n",
    "df['prdaypyr_cc']=pd.cut(df['prdaypyr_c'],bins_c)"
   ]
  },
  {
   "cell_type": "code",
   "execution_count": 12,
   "metadata": {},
   "outputs": [
    {
     "data": {
      "text/plain": [
       "prdaypyr_cc\n",
       "(1, 12]         835\n",
       "(12, 52]        153\n",
       "(52, 365]        34\n",
       "(365, 999]    53989\n",
       "dtype: int64"
      ]
     },
     "execution_count": 12,
     "metadata": {},
     "output_type": "execute_result"
    }
   ],
   "source": [
    "df.groupby('prdaypyr_cc').size()"
   ]
  },
  {
   "cell_type": "code",
   "execution_count": 15,
   "metadata": {},
   "outputs": [
    {
     "data": {
      "text/plain": [
       "prdaypyr_cw\n",
       "(0, 7]        519\n",
       "(7, 900]    54752\n",
       "dtype: int64"
      ]
     },
     "execution_count": 15,
     "metadata": {},
     "output_type": "execute_result"
    }
   ],
   "source": [
    "# prdaypwk weekly\n",
    "bins_w = [0, 7,900]\n",
    "df['prdaypyr_cw']=pd.cut(df['prdaypyr_w'],bins_w)\n",
    "df.groupby('prdaypyr_cw').size()"
   ]
  },
  {
   "cell_type": "code",
   "execution_count": 44,
   "metadata": {},
   "outputs": [
    {
     "data": {
      "text/plain": [
       "prdaypyr_cm\n",
       "(0, 1]         122\n",
       "(1, 4]         286\n",
       "(4, 30]        278\n",
       "(30, 800]    54585\n",
       "dtype: int64"
      ]
     },
     "execution_count": 44,
     "metadata": {},
     "output_type": "execute_result"
    }
   ],
   "source": [
    "# prdaypwk monthly \n",
    "bins_w = [0,1,4, 30,800]\n",
    "df['prdaypyr_cm']=pd.cut(df['prdaypyr_m'],bins_w)\n",
    "df.groupby('prdaypyr_cm').size()"
   ]
  },
  {
   "cell_type": "code",
   "execution_count": 66,
   "metadata": {},
   "outputs": [
    {
     "data": {
      "text/plain": [
       "839"
      ]
     },
     "execution_count": 66,
     "metadata": {},
     "output_type": "execute_result"
    }
   ],
   "source": [
    "# Number of people misuse weekly or more\n",
    " df.groupby('prdaypyr_cw').size().iloc[0] + df.groupby('prdaypyr_cc').size().iloc[2] + df.groupby('prdaypyr_cm').size()[2]"
   ]
  },
  {
   "cell_type": "code",
   "execution_count": 59,
   "metadata": {},
   "outputs": [
    {
     "data": {
      "text/plain": [
       "957"
      ]
     },
     "execution_count": 59,
     "metadata": {},
     "output_type": "execute_result"
    }
   ],
   "source": [
    "# Number of people misuse monthly\n",
    "df.groupby('prdaypyr_cm').size().iloc[0] + df.groupby('prdaypyr_cc').size().iloc[0]"
   ]
  },
  {
   "cell_type": "code",
   "execution_count": 65,
   "metadata": {},
   "outputs": [
    {
     "data": {
      "text/plain": [
       "439"
      ]
     },
     "execution_count": 65,
     "metadata": {},
     "output_type": "execute_result"
    }
   ],
   "source": [
    "# Number of people misuse Monthly to weekly\n",
    "df.groupby('prdaypyr_cm').size().iloc[1] + df.groupby('prdaypyr_cc').size().iloc[1]"
   ]
  },
  {
   "cell_type": "markdown",
   "metadata": {},
   "source": []
  }
 ],
 "metadata": {
  "kernelspec": {
   "display_name": "Python 3",
   "language": "python",
   "name": "python3"
  },
  "language_info": {
   "codemirror_mode": {
    "name": "ipython",
    "version": 3
   },
   "file_extension": ".py",
   "mimetype": "text/x-python",
   "name": "python",
   "nbconvert_exporter": "python",
   "pygments_lexer": "ipython3",
   "version": "3.6.8"
  }
 },
 "nbformat": 4,
 "nbformat_minor": 2
}
