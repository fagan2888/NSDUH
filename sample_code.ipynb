{
 "cells": [
  {
   "cell_type": "code",
   "execution_count": 3,
   "metadata": {},
   "outputs": [],
   "source": [
    "import pandas as pd"
   ]
  },
  {
   "cell_type": "code",
   "execution_count": 5,
   "metadata": {},
   "outputs": [],
   "source": [
    "#convert stata data to pandas\n",
    "stata_data='NSDUH_2017.DTA'\n",
    "df=pd.read_stata(stata_data)\n",
    "t=df.shape[0]"
   ]
  },
  {
   "cell_type": "code",
   "execution_count": 6,
   "metadata": {},
   "outputs": [],
   "source": [
    "dfm=df[df['irsex']=='1 - Male']\n",
    "tm=dfm.shape[0]\n",
    "dff=df[df['irsex']=='2 - Female']\n",
    "tf=dff.shape[0]"
   ]
  },
  {
   "cell_type": "code",
   "execution_count": 16,
   "metadata": {
    "scrolled": false
   },
   "outputs": [
    {
     "name": "stdout",
     "output_type": "stream",
     "text": [
      "Empty DataFrame\n",
      "Columns: [index, Female, Male, Female/Male]\n",
      "Index: []\n",
      "-----------------------------------------------\n",
      "                                          CIG30TPE  Female   Male  Female/Male\n",
      "0                                 2 - Ultra Lights     314    195     1.610256\n",
      "1                       91 - NEVER USED CIGARETTES   15937  13034     1.222725\n",
      "2  93 - DID NOT USE CIGARETTES IN THE PAST 30 DAYS    8529   8489     1.004712\n",
      "3                                       1 - Lights    1644   1638     1.003663\n",
      "4                                      3 - Mediums     545    657     0.829528\n",
      "5                                  4 - Full Flavor    2139   2900     0.737586\n",
      "-----------------------------------------------\n",
      "                                        alcyrtot  Female  Male  Female/Male\n",
      "0                                              3     766   420     1.823810\n",
      "1                                              4     569   331     1.719033\n",
      "2                                              5     744   436     1.706422\n",
      "3                                              6     401   240     1.670833\n",
      "4                                              2     694   430     1.613953\n",
      "5                                             10     565   383     1.475196\n",
      "6                                             12    1068   758     1.408971\n",
      "7                                             24    1230   966     1.273292\n",
      "8                                             36     991   814     1.217445\n",
      "9   993 - DID NOT USE ALCOHOL IN THE PAST 12 MOS    3399  2869     1.184733\n",
      "10                                            48     770   690     1.115942\n",
      "11                                             1     554   500     1.108000\n",
      "12                      991 - NEVER USED ALCOHOL    8100  7615     1.063690\n",
      "13                                            60     632   613     1.030995\n",
      "14                                           120     337   330     1.021212\n",
      "15                                            52    1230  1208     1.018212\n",
      "16                                            72     284   288     0.986111\n",
      "17                                           104    1371  1528     0.897251\n",
      "18                                           156    1106  1354     0.816839\n",
      "19                                           208     565   783     0.721584\n",
      "20                                           260     484   719     0.673157\n",
      "21                                           312     211   379     0.556728\n",
      "-----------------------------------------------\n",
      "                                       aldaypyr  Female   Male  Female/Male\n",
      "0                                             3     754    408     1.848039\n",
      "1                                             4     551    318     1.732704\n",
      "2                                             5     729    429     1.699301\n",
      "3                                             6     391    234     1.670940\n",
      "4                                             2     683    413     1.653753\n",
      "5                                            10     551    373     1.477212\n",
      "6  993 - DID NOT USE ALCOHOL IN THE PAST 12 MOS    3399   2869     1.184733\n",
      "7                                             1     552    498     1.108434\n",
      "8                      991 - NEVER USED ALCOHOL    8100   7615     1.063690\n",
      "9                         999 - LEGITIMATE SKIP   11538  12001     0.961420\n",
      "-----------------------------------------------\n"
     ]
    }
   ],
   "source": [
    "#Find Variables with a\n",
    "for c in df.columns[0:100]:\n",
    "    sm=dfm.groupby(c)[c].count()\n",
    "    sf=dff.groupby(c)[c].count()\n",
    "    dg=pd.DataFrame(dict(Male = sm, Female = sf)).reset_index()\n",
    "    dg=dg[(dg.Female>tf/100) | (dg.Male>tm/100)]\n",
    "    dg['Female/Male']=dg.Female/dg.Male\n",
    "    if dg.shape[0]>0 and dg['Female/Male'].max()<1.5:\n",
    "        continue    \n",
    "    dgs=dg.sort_values('Female/Male',ascending=False).reset_index(drop=True)\n",
    "    print(dgs)\n",
    "    print('-----------------------------------------------')"
   ]
  },
  {
   "cell_type": "code",
   "execution_count": null,
   "metadata": {},
   "outputs": [],
   "source": []
  }
 ],
 "metadata": {
  "kernelspec": {
   "display_name": "Python 3",
   "language": "python",
   "name": "python3"
  },
  "language_info": {
   "codemirror_mode": {
    "name": "ipython",
    "version": 3
   },
   "file_extension": ".py",
   "mimetype": "text/x-python",
   "name": "python",
   "nbconvert_exporter": "python",
   "pygments_lexer": "ipython3",
   "version": "3.6.5"
  }
 },
 "nbformat": 4,
 "nbformat_minor": 2
}
