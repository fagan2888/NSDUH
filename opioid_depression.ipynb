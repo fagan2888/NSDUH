{
 "cells": [
  {
   "cell_type": "code",
   "execution_count": 22,
   "metadata": {},
   "outputs": [],
   "source": [
    "import numpy as np"
   ]
  },
  {
   "cell_type": "code",
   "execution_count": 23,
   "metadata": {},
   "outputs": [],
   "source": [
    "import pandas as pd"
   ]
  },
  {
   "cell_type": "code",
   "execution_count": 50,
   "metadata": {},
   "outputs": [],
   "source": [
    "#convert stata data to pandas\n",
    "stata_data='~/Downloads/NSDUH-2014-DS0001-bndl-data-stata/NSDUH_2014.DTA'\n",
    "df=pd.read_stata(stata_data)\n",
    "t=df.shape[0]"
   ]
  },
  {
   "cell_type": "code",
   "execution_count": 107,
   "metadata": {},
   "outputs": [],
   "source": [
    "df['prdaypyr_c']=df['prdaypyr'].apply(lambda x : x if type(x) is int else 999)"
   ]
  },
  {
   "cell_type": "code",
   "execution_count": 117,
   "metadata": {},
   "outputs": [
    {
     "ename": "SyntaxError",
     "evalue": "invalid syntax (<ipython-input-117-53080bfe5e17>, line 1)",
     "output_type": "error",
     "traceback": [
      "\u001b[0;36m  File \u001b[0;32m\"<ipython-input-117-53080bfe5e17>\"\u001b[0;36m, line \u001b[0;32m1\u001b[0m\n\u001b[0;31m    df['prdaypyr_cc']=df['prdaypyr_c'].apply(lambda x: 'w' if x >= 52)\u001b[0m\n\u001b[0m                                                                     ^\u001b[0m\n\u001b[0;31mSyntaxError\u001b[0m\u001b[0;31m:\u001b[0m invalid syntax\n"
     ]
    }
   ],
   "source": [
    "df['prdaypyr_cc']=df['prdaypyr_c'].apply(lambda x: 'w' if x >= 52 else x)\n",
    "df['prdaypyr_cc']=df['prdaypyr_c'].apply(lambda x: 'm' if (x <52 & x>=12) else x)\n",
    "df['prdaypyr_cc']=df['prdaypyr_c'].apply(lambda x: 'lm' if x <12 else x)"
   ]
  },
  {
   "cell_type": "code",
   "execution_count": 119,
   "metadata": {},
   "outputs": [
    {
     "data": {
      "text/plain": [
       "0        (52, 999]\n",
       "1        (52, 999]\n",
       "2        (52, 999]\n",
       "3        (52, 999]\n",
       "4        (52, 999]\n",
       "5        (52, 999]\n",
       "6        (52, 999]\n",
       "7          (0, 12]\n",
       "8        (52, 999]\n",
       "9        (52, 999]\n",
       "10       (52, 999]\n",
       "11       (52, 999]\n",
       "12       (52, 999]\n",
       "13       (52, 999]\n",
       "14       (52, 999]\n",
       "15       (52, 999]\n",
       "16       (52, 999]\n",
       "17       (52, 999]\n",
       "18       (52, 999]\n",
       "19       (52, 999]\n",
       "20       (52, 999]\n",
       "21       (52, 999]\n",
       "22       (52, 999]\n",
       "23       (52, 999]\n",
       "24       (52, 999]\n",
       "25       (52, 999]\n",
       "26       (52, 999]\n",
       "27       (52, 999]\n",
       "28         (0, 12]\n",
       "29       (52, 999]\n",
       "           ...    \n",
       "55241    (52, 999]\n",
       "55242    (52, 999]\n",
       "55243    (52, 999]\n",
       "55244    (52, 999]\n",
       "55245    (52, 999]\n",
       "55246    (52, 999]\n",
       "55247    (52, 999]\n",
       "55248    (52, 999]\n",
       "55249    (52, 999]\n",
       "55250      (0, 12]\n",
       "55251    (52, 999]\n",
       "55252    (52, 999]\n",
       "55253    (52, 999]\n",
       "55254    (52, 999]\n",
       "55255    (52, 999]\n",
       "55256    (52, 999]\n",
       "55257    (52, 999]\n",
       "55258    (52, 999]\n",
       "55259    (52, 999]\n",
       "55260    (52, 999]\n",
       "55261    (52, 999]\n",
       "55262    (52, 999]\n",
       "55263    (52, 999]\n",
       "55264    (52, 999]\n",
       "55265    (52, 999]\n",
       "55266    (52, 999]\n",
       "55267    (52, 999]\n",
       "55268    (52, 999]\n",
       "55269    (52, 999]\n",
       "55270    (52, 999]\n",
       "Name: prdaypyr_c, Length: 55271, dtype: category\n",
       "Categories (3, interval[int64]): [(0, 12] < (12, 52] < (52, 999]]"
      ]
     },
     "execution_count": 119,
     "metadata": {},
     "output_type": "execute_result"
    }
   ],
   "source": [
    "bins = [0, 12, 52,999]\n",
    "pd.cut(df['prdaypyr_c'],bins)"
   ]
  },
  {
   "cell_type": "code",
   "execution_count": null,
   "metadata": {},
   "outputs": [],
   "source": []
  },
  {
   "cell_type": "code",
   "execution_count": 116,
   "metadata": {},
   "outputs": [
    {
     "data": {
      "text/plain": [
       "prdaypyr_cc\n",
       "12        30\n",
       "13         3\n",
       "14        12\n",
       "15        43\n",
       "16         3\n",
       "18         2\n",
       "20        25\n",
       "21         1\n",
       "22         2\n",
       "24         2\n",
       "25         6\n",
       "28         2\n",
       "30        38\n",
       "31         1\n",
       "35         2\n",
       "40         4\n",
       "45         2\n",
       "50         5\n",
       "56         1\n",
       "60         5\n",
       "70         1\n",
       "75         1\n",
       "80         1\n",
       "90         2\n",
       "100        2\n",
       "140        1\n",
       "150        1\n",
       "155        1\n",
       "160        2\n",
       "200        3\n",
       "240        1\n",
       "250        2\n",
       "260        1\n",
       "320        1\n",
       "330        1\n",
       "365        7\n",
       "999    53989\n",
       "lm      1065\n",
       "dtype: int64"
      ]
     },
     "execution_count": 116,
     "metadata": {},
     "output_type": "execute_result"
    }
   ],
   "source": [
    "df.groupby('prdaypyr_cc').size()"
   ]
  },
  {
   "cell_type": "code",
   "execution_count": null,
   "metadata": {},
   "outputs": [],
   "source": []
  }
 ],
 "metadata": {
  "kernelspec": {
   "display_name": "Python 3",
   "language": "python",
   "name": "python3"
  },
  "language_info": {
   "codemirror_mode": {
    "name": "ipython",
    "version": 3
   },
   "file_extension": ".py",
   "mimetype": "text/x-python",
   "name": "python",
   "nbconvert_exporter": "python",
   "pygments_lexer": "ipython3",
   "version": "3.6.5"
  }
 },
 "nbformat": 4,
 "nbformat_minor": 2
}
